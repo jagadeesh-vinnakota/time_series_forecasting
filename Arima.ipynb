{
 "cells": [
  {
   "cell_type": "code",
   "execution_count": 14,
   "metadata": {},
   "outputs": [],
   "source": [
    "!pip install -q pandas>1.0.3"
   ]
  },
  {
   "cell_type": "code",
   "execution_count": 15,
   "metadata": {},
   "outputs": [],
   "source": [
    "!pip install -q statsmodels\n"
   ]
  },
  {
   "cell_type": "code",
   "execution_count": 16,
   "metadata": {},
   "outputs": [],
   "source": [
    "import sys\n",
    "!{sys.executable} -m pip install -q scikit-learn==0.23.1\n",
    "#!pip install -q scikit-learn < 0.23.1"
   ]
  },
  {
   "cell_type": "code",
   "execution_count": 17,
   "metadata": {},
   "outputs": [
    {
     "name": "stderr",
     "output_type": "stream",
     "text": [
      "C:\\Users\\jagad\\Anaconda3\\envs\\time_series_forecasting\\lib\\site-packages\\ipykernel_launcher.py:2: FutureWarning: The pandas.datetime class is deprecated and will be removed from pandas in a future version. Import from datetime module instead.\n",
      "  \n"
     ]
    },
    {
     "data": {
      "image/png": "[encoded data removed]",
      "text/plain": [
       "<Figure size 432x288 with 1 Axes>"
      ]
     },
     "metadata": {
      "needs_background": "light"
     },
     "output_type": "display_data"
    }
   ],
   "source": [
    "from pandas import read_csv\n",
    "from pandas import datetime\n",
    "from matplotlib import pyplot\n",
    "from pandas.plotting import autocorrelation_plot\n",
    "\n",
    "# def parser(x):\n",
    "# \treturn datetime.strptime('190'+x, '%Y-%m')\n",
    "\n",
    "series = read_csv('sales.csv', index_col=0, squeeze=True)\n",
    "autocorrelation_plot(series)\n",
    "pyplot.show()"
   ]
  },
  {
   "cell_type": "code",
   "execution_count": 18,
   "metadata": {},
   "outputs": [],
   "source": [
    "# from pandas import read_csv\n",
    "# from pandas import datetime\n",
    "# from pandas import DataFrame\n",
    "# from statsmodels.tsa.arima_model import ARIMA\n",
    "# from matplotlib import pyplot\n",
    "\n",
    "# # def parser(x):\n",
    "# # \treturn datetime.strptime('190'+x, '%Y-%m')\n",
    "\n",
    "# series = read_csv('sales.csv', index_col=0, squeeze=True)\n",
    "# # fit model\n",
    "# model = ARIMA(series, order=(15,1,0))\n",
    "# model_fit = model.fit(disp=0)\n",
    "# print(model_fit.summary())\n",
    "# # plot residual errors\n",
    "# residuals = DataFrame(model_fit.resid)\n",
    "# residuals.plot()\n",
    "# pyplot.show()\n",
    "# residuals.plot(kind='kde')\n",
    "# pyplot.show()\n",
    "# print(residuals.describe())"
   ]
  },
  {
   "cell_type": "code",
   "execution_count": 19,
   "metadata": {},
   "outputs": [
    {
     "name": "stdout",
     "output_type": "stream",
     "text": [
      "Purchase Date\n",
      "2020-05-05 00:00:00    201\n",
      "2020-05-05 01:00:00    186\n",
      "2020-05-05 02:00:00    101\n",
      "2020-05-05 03:00:00     70\n",
      "2020-05-05 04:00:00     54\n",
      "Name: Sales, dtype: int64\n"
     ]
    },
    {
     "name": "stderr",
     "output_type": "stream",
     "text": [
      "C:\\Users\\jagad\\Anaconda3\\envs\\time_series_forecasting\\lib\\site-packages\\ipykernel_launcher.py:2: FutureWarning: The pandas.datetime class is deprecated and will be removed from pandas in a future version. Import from datetime module instead.\n",
      "  \n"
     ]
    }
   ],
   "source": [
    "from pandas import read_csv\n",
    "from pandas import datetime\n",
    "from matplotlib import pyplot\n",
    "from statsmodels.tsa.arima_model import ARIMA\n",
    "from sklearn.metrics import mean_squared_error\n",
    "\n",
    "series = read_csv('sales.csv', index_col=0, squeeze=True)\n",
    "print(series.head())"
   ]
  },
  {
   "cell_type": "code",
   "execution_count": 20,
   "metadata": {},
   "outputs": [
    {
     "data": {
      "text/plain": [
       "Purchase Date\n",
       "2020-05-08 19:00:00    373\n",
       "2020-05-08 20:00:00    392\n",
       "2020-05-08 21:00:00    339\n",
       "2020-05-08 22:00:00    329\n",
       "2020-05-08 23:00:00    251\n",
       "Name: Sales, dtype: int64"
      ]
     },
     "execution_count": 20,
     "metadata": {},
     "output_type": "execute_result"
    }
   ],
   "source": [
    "series.tail()"
   ]
  },
  {
   "cell_type": "code",
   "execution_count": 21,
   "metadata": {},
   "outputs": [
    {
     "name": "stdout",
     "output_type": "stream",
     "text": [
      "Purchase Date\n",
      "2020-05-09 00:00:00    149\n",
      "2020-05-09 01:00:00    127\n",
      "2020-05-09 02:00:00    132\n",
      "2020-05-09 03:00:00     81\n",
      "2020-05-09 04:00:00     51\n",
      "Name: Sales, dtype: int64\n"
     ]
    }
   ],
   "source": [
    "predicted_series = read_csv('predicted_sales.csv', index_col=0, squeeze=True)\n",
    "print(predicted_series.head())"
   ]
  },
  {
   "cell_type": "code",
   "execution_count": 22,
   "metadata": {},
   "outputs": [],
   "source": [
    "\n",
    "#print(series.index)\n",
    "X = series.values\n",
    "#size = int(len(X) * 0.66)\n",
    "#train, test = X[0:size], X[size:len(X)]\n",
    "history = [x for x in X]\n"
   ]
  },
  {
   "cell_type": "code",
   "execution_count": 23,
   "metadata": {},
   "outputs": [],
   "source": [
    "Y = predicted_series.values\n",
    "#size = int(len(X) * 0.66)\n",
    "#train, test = X[0:size], X[size:len(X)]\n",
    "test = [x for x in Y]\n"
   ]
  },
  {
   "cell_type": "code",
   "execution_count": 24,
   "metadata": {},
   "outputs": [],
   "source": [
    "\n",
    "# predictions = list()\n",
    "# for t in range(len(test)):\n",
    "# \tmodel = ARIMA(history, order=(15,1,0))\n",
    "# \tmodel_fit = model.fit(disp=0)\n",
    "# \toutput = model_fit.forecast()\n",
    "# \tyhat = output[0]\n",
    "# \tpredictions.append(yhat)\n",
    "# \tobs = test[t]\n",
    "# \thistory.append(obs)\n",
    "# \tprint('predicted=%f, expected=%f' % (yhat, obs))\n",
    "# error = mean_squared_error(test, predictions)\n",
    "# print('Test MSE: %.3f' % error)\n",
    "# # plot\n",
    "# pyplot.plot(test)\n",
    "# pyplot.plot(predictions, color='red')\n",
    "# pyplot.show()"
   ]
  },
  {
   "cell_type": "code",
   "execution_count": 33,
   "metadata": {},
   "outputs": [
    {
     "name": "stderr",
     "output_type": "stream",
     "text": [
      "C:\\Users\\jagad\\Anaconda3\\envs\\time_series_forecasting\\lib\\site-packages\\statsmodels\\base\\model.py:548: HessianInversionWarning: Inverting hessian failed, no bse or cov_params available\n",
      "  'available', HessianInversionWarning)\n",
      "C:\\Users\\jagad\\Anaconda3\\envs\\time_series_forecasting\\lib\\site-packages\\statsmodels\\base\\model.py:568: ConvergenceWarning: Maximum Likelihood optimization failed to converge. Check mle_retvals\n",
      "  \"Check mle_retvals\", ConvergenceWarning)\n",
      "C:\\Users\\jagad\\Anaconda3\\envs\\time_series_forecasting\\lib\\site-packages\\statsmodels\\tsa\\arima_model.py:1866: RuntimeWarning: invalid value encountered in sqrt\n",
      "  fcerr = np.sqrt(np.cumsum(cumsum_n(ma_rep, self.k_diff) ** 2) * sigma2)\n"
     ]
    },
    {
     "data": {
      "text/plain": [
       "array([248.96730927, 153.48850925, 124.94569906,  81.46047846,\n",
       "        39.70015069,  44.40747658,  60.61611727, 137.68044372,\n",
       "       208.56324667, 268.61029318, 333.70663619, 340.5939337 ,\n",
       "       385.03404423, 383.98368728, 394.33359402, 415.46953178,\n",
       "       374.77435217, 390.9735417 , 350.45057962, 359.56609251,\n",
       "       335.39852876, 313.68654485, 287.81901978, 227.014104  ])"
      ]
     },
     "execution_count": 33,
     "metadata": {},
     "output_type": "execute_result"
    }
   ],
   "source": [
    "\n",
    "predictions = list()\n",
    "model = ARIMA(history, order=(24,2,0))\n",
    "model_fit = model.fit(disp=0)\n",
    "predictions = model_fit.forecast(steps=24)[0]\n",
    "predictions\n",
    "# for t in range(len(test)):\n",
    "# \tyhat = output[0]\n",
    "# \tpredictions.append(yhat)\n",
    "# \tobs = test[t]\n",
    "# \thistory.append(obs)\n",
    "# \tprint('predicted=%f, expected=%f' % (yhat, obs))\n"
   ]
  },
  {
   "cell_type": "code",
   "execution_count": 34,
   "metadata": {},
   "outputs": [
    {
     "name": "stdout",
     "output_type": "stream",
     "text": [
      "Test MSE: 1871.704\n"
     ]
    },
    {
     "data": {
      "image/png": "[encoded data removed]",
      "text/plain": [
       "<Figure size 432x288 with 1 Axes>"
      ]
     },
     "metadata": {
      "needs_background": "light"
     },
     "output_type": "display_data"
    }
   ],
   "source": [
    "error = mean_squared_error(test, predictions)\n",
    "print('Test MSE: %.3f' % error)\n",
    "# plot\n",
    "pyplot.plot(test)\n",
    "pyplot.plot(predictions, color='red')\n",
    "pyplot.show()"
   ]
  },
  {
   "cell_type": "code",
   "execution_count": null,
   "metadata": {},
   "outputs": [],
   "source": []
  }
 ],
 "metadata": {
  "kernelspec": {
   "display_name": "Python [conda env:time_series_forecasting] *",
   "language": "python",
   "name": "conda-env-time_series_forecasting-py"
  },
  "language_info": {
   "codemirror_mode": {
    "name": "ipython",
    "version": 3
   },
   "file_extension": ".py",
   "mimetype": "text/x-python",
   "name": "python",
   "nbconvert_exporter": "python",
   "pygments_lexer": "ipython3",
   "version": "3.7.7"
  }
 },
 "nbformat": 4,
 "nbformat_minor": 4
}
